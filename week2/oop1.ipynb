{
 "cells": [
  {
   "cell_type": "code",
   "execution_count": 9,
   "metadata": {},
   "outputs": [
    {
     "name": "stdout",
     "output_type": "stream",
     "text": [
      "Instantiated User\n",
      "Instantiated User\n",
      "John\n",
      "10\n",
      "Rick 10\n",
      "Rick has 10 points\n",
      "John has 15 points\n",
      "--- Internal variables\n",
      "Internal u1:  3\n",
      "Internal u2:  3\n",
      "Mangle u2 attribute:  5\n",
      "{'name': 'John', '_internal_only': 3, '_User__mangled': 5, 'points': 15}\n",
      "{'name': 'Rick', '_internal_only': 3, '_User__mangled': 5}\n",
      "['_User__mangled', '__class__', '__delattr__', '__dict__', '__dir__', '__doc__', '__eq__', '__format__', '__ge__', '__getattribute__', '__getstate__', '__gt__', '__hash__', '__init__', '__init_subclass__', '__le__', '__lt__', '__module__', '__ne__', '__new__', '__reduce__', '__reduce_ex__', '__repr__', '__setattr__', '__sizeof__', '__str__', '__subclasshook__', '__weakref__', '_internal_only', 'details', 'get_mangled', 'modify_points', 'name', 'points']\n"
     ]
    }
   ],
   "source": [
    "class User:\n",
    "  # pass\n",
    "  points = 10\n",
    "\n",
    "  def __init__(self, name):\n",
    "    print(\"Instantiated User\")\n",
    "    self.name = name\n",
    "    self._internal_only = 3 # internal only\n",
    "    self.__mangled = 5 # private / name mangled\n",
    "\n",
    "  def details(self):\n",
    "    return f\"{self.name} has {self.points} points\"\n",
    "\n",
    "  # create a method to change the points for a object\n",
    "  def modify_points(self, update_point):\n",
    "    self.points = update_point\n",
    "\n",
    "  def get_mangled(self):\n",
    "    return self.__mangled\n",
    "    \n",
    "\n",
    "u1 = User(\"John\")\n",
    "u2 = User(\"Rick\")\n",
    "\n",
    "print(u1.name)\n",
    "print(u1.points)\n",
    "print(u2.name, u2.points)\n",
    "\n",
    "u1.modify_points(15)\n",
    "\n",
    "print(u2.details())\n",
    "print(u1.details())\n",
    "\n",
    "print(\"--- Internal variables\")\n",
    "print(\"Internal u1: \",u1._internal_only)\n",
    "print(\"Internal u2: \",u2._internal_only)\n",
    "print(\"Mangle u2 attribute: \",u2.get_mangled())\n",
    "\n",
    "print(u1.__dict__)\n",
    "print(u2.__dict__)\n",
    "\n",
    "print(dir(u1))\n",
    "# u1 = User()"
   ]
  },
  {
   "cell_type": "code",
   "execution_count": 20,
   "metadata": {},
   "outputs": [
    {
     "name": "stdout",
     "output_type": "stream",
     "text": [
      "<class '__main__.User'>\n"
     ]
    }
   ],
   "source": [
    "print(type(u1))"
   ]
  },
  {
   "cell_type": "code",
   "execution_count": null,
   "metadata": {},
   "outputs": [
    {
     "name": "stdout",
     "output_type": "stream",
     "text": [
      "Ostrich can run\n",
      "Dottie can run\n"
     ]
    }
   ],
   "source": [
    "# Inheritance\n",
    "\n",
    "# class called Animal which will have a method called run\n",
    "class Animal:\n",
    "  def __init__(self, name):\n",
    "    self.name = name\n",
    "\n",
    "  def run(self):\n",
    "    print(f\"{self.name} can run\")\n",
    "\n",
    "# class called Dog which will inherit from Animal\n",
    "class Dog(Animal):\n",
    "  pass\n",
    "\n",
    "# class Ostrich(Animal):\n",
    "#   pass\n",
    "\n",
    "an1 = Animal(\"Ostrich\")\n",
    "an1.run()\n",
    "\n",
    "d1 = Dog(\"Dottie\")\n",
    "d1.run()\n",
    "\n",
    "# write a method in the animal class that prints the name of the animla can run."
   ]
  },
  {
   "cell_type": "code",
   "execution_count": 21,
   "metadata": {},
   "outputs": [
    {
     "name": "stdout",
     "output_type": "stream",
     "text": [
      "Ostrich can run\n",
      "Dottie can run\n",
      "Dottie can woof!!!\n",
      "Mini can meow!!!\n"
     ]
    }
   ],
   "source": [
    "# Polymorphism\n",
    "\n",
    "# class called Animal which will have a method called run\n",
    "class Animal:\n",
    "  def __init__(self, name):\n",
    "    self.name = name\n",
    "\n",
    "  def run(self):\n",
    "    print(f\"{self.name} can run\")\n",
    "\n",
    "  def sound(self):\n",
    "    print(f\"{self.name} can make sound\")\n",
    "\n",
    "# class called Dog which will inherit from Animal\n",
    "class Dog(Animal):\n",
    "\n",
    "  def sound(self):\n",
    "    print(f\"{self.name} can woof!!!\")\n",
    "\n",
    "class Cat(Animal):\n",
    "  def sound(self):\n",
    "    print(f\"{self.name} can meow!!!\")\n",
    "\n",
    "class Ostrich(Animal):\n",
    "  pass\n",
    "\n",
    "an1 = Animal(\"Ostrich\")\n",
    "an1.run()\n",
    "\n",
    "d1 = Dog(\"Dottie\")\n",
    "d1.run()\n",
    "\n",
    "c1 = Cat(\"Mini\")\n",
    "\n",
    "d1.sound()\n",
    "c1.sound()\n",
    "\n",
    "# write a method in the animal class that prints the name of the animla can run."
   ]
  },
  {
   "cell_type": "code",
   "execution_count": 32,
   "metadata": {},
   "outputs": [
    {
     "name": "stdout",
     "output_type": "stream",
     "text": [
      "Woof!!\n"
     ]
    }
   ],
   "source": [
    "# Abstraction\n",
    "\n",
    "from abc import ABC, abstractmethod\n",
    "\n",
    "class Animal2(ABC):\n",
    "  @abstractmethod\n",
    "  def sound(self):\n",
    "    pass\n",
    "\n",
    "class Dog2(Animal2):\n",
    "  # pass\n",
    "  def sound(self):\n",
    "    return f\"Woof!!\"\n",
    "\n",
    "d2 = Dog2()\n",
    "print(d2.sound())"
   ]
  },
  {
   "cell_type": "code",
   "execution_count": 19,
   "metadata": {},
   "outputs": [
    {
     "name": "stdout",
     "output_type": "stream",
     "text": [
      "U1 balance:  45\n"
     ]
    },
    {
     "ename": "ValueError",
     "evalue": "Balance Can not be negative",
     "output_type": "error",
     "traceback": [
      "\u001b[1;31m---------------------------------------------------------------------------\u001b[0m",
      "\u001b[1;31mValueError\u001b[0m                                Traceback (most recent call last)",
      "Cell \u001b[1;32mIn[19], line 37\u001b[0m\n\u001b[0;32m     34\u001b[0m \u001b[38;5;28mprint\u001b[39m(\u001b[38;5;124m\"\u001b[39m\u001b[38;5;124mU1 balance: \u001b[39m\u001b[38;5;124m\"\u001b[39m,u1\u001b[38;5;241m.\u001b[39mbalance)\n\u001b[0;32m     35\u001b[0m \u001b[38;5;66;03m# print(u1.balance())\u001b[39;00m\n\u001b[1;32m---> 37\u001b[0m u2 \u001b[38;5;241m=\u001b[39m \u001b[43mUserAccount\u001b[49m\u001b[43m(\u001b[49m\u001b[38;5;124;43m\"\u001b[39;49m\u001b[38;5;124;43mJohn\u001b[39;49m\u001b[38;5;124;43m\"\u001b[39;49m\u001b[43m,\u001b[49m\u001b[43m \u001b[49m\u001b[38;5;241;43m-\u001b[39;49m\u001b[38;5;241;43m45\u001b[39;49m\u001b[43m)\u001b[49m\n\u001b[0;32m     39\u001b[0m \u001b[38;5;28mprint\u001b[39m(\u001b[38;5;124m\"\u001b[39m\u001b[38;5;124mU2 bal: \u001b[39m\u001b[38;5;124m\"\u001b[39m,u2\u001b[38;5;241m.\u001b[39mbalance)\n",
      "Cell \u001b[1;32mIn[19], line 8\u001b[0m, in \u001b[0;36mUserAccount.__init__\u001b[1;34m(self, name, balance)\u001b[0m\n\u001b[0;32m      6\u001b[0m \u001b[38;5;28mself\u001b[39m\u001b[38;5;241m.\u001b[39mname \u001b[38;5;241m=\u001b[39m name\n\u001b[0;32m      7\u001b[0m \u001b[38;5;66;03m# self._balance = balance\u001b[39;00m\n\u001b[1;32m----> 8\u001b[0m \u001b[38;5;28;43mself\u001b[39;49m\u001b[38;5;241;43m.\u001b[39;49m\u001b[43mbalance\u001b[49m \u001b[38;5;241m=\u001b[39m balance\n",
      "Cell \u001b[1;32mIn[19], line 25\u001b[0m, in \u001b[0;36mUserAccount.balance\u001b[1;34m(self, value)\u001b[0m\n\u001b[0;32m     23\u001b[0m   \u001b[38;5;28mself\u001b[39m\u001b[38;5;241m.\u001b[39m_balance \u001b[38;5;241m=\u001b[39m value\n\u001b[0;32m     24\u001b[0m \u001b[38;5;28;01melse\u001b[39;00m:\n\u001b[1;32m---> 25\u001b[0m   \u001b[38;5;28;01mraise\u001b[39;00m \u001b[38;5;167;01mValueError\u001b[39;00m(\u001b[38;5;124m\"\u001b[39m\u001b[38;5;124mBalance Can not be negative\u001b[39m\u001b[38;5;124m\"\u001b[39m)\n",
      "\u001b[1;31mValueError\u001b[0m: Balance Can not be negative"
     ]
    }
   ],
   "source": [
    "# getters and setters Python\n",
    "\n",
    "class UserAccount:\n",
    "\n",
    "  def __init__(self, name: str, balance: int):\n",
    "    self.name = name\n",
    "    # self._balance = balance\n",
    "    self.balance = balance\n",
    "\n",
    "  @property\n",
    "  def balance(self):\n",
    "    return self._balance\n",
    "  \n",
    "  @balance.setter\n",
    "  def balance(self, value):\n",
    "    # raise ValueError(\"Can not be negative\") if value<0 else self._balance\n",
    "    # ternary operator\n",
    "    # self._balance = value if value>=0 else raise ValueError(\"Balance Can not be negative\")\n",
    "\n",
    "    # raise ValueError(\"Balance Can not be negative\") if value<0 else self._balance=value\n",
    "\n",
    "    if value>=0:\n",
    "      self._balance = value\n",
    "    else:\n",
    "      raise ValueError(\"Balance Can not be negative\")\n",
    "\n",
    "\n",
    "u1 = UserAccount(\"Charles\", 45)\n",
    "\n",
    "# u1.balance = -23\n",
    "# u1._balance = -23\n",
    "\n",
    "# u1._balance\n",
    "print(\"U1 balance: \",u1.balance)\n",
    "# print(u1.balance())\n",
    "\n",
    "u2 = UserAccount(\"John\", -45)\n",
    "\n",
    "print(\"U2 bal: \",u2.balance)"
   ]
  },
  {
   "cell_type": "code",
   "execution_count": 31,
   "metadata": {},
   "outputs": [
    {
     "name": "stdout",
     "output_type": "stream",
     "text": [
      "A Ltd. is valued at 1000\n",
      "B Ltd. is valued at 2000\n",
      "Total valuation of both companies: 3000\n"
     ]
    }
   ],
   "source": [
    "class Company():\n",
    "  \n",
    "  def __init__(self, name, valuation):\n",
    "    self.name = name\n",
    "    self.valuation = valuation\n",
    "\n",
    "  def __str__(self):\n",
    "    return f\"{self.name} is valued at {self.valuation}\"\n",
    "  \n",
    "  def __add__(self, coy_obj):\n",
    "    return self.valuation + coy_obj.valuation\n",
    "  \n",
    "\n",
    "coy1 = Company(\"A Ltd.\", 1000)\n",
    "coy2 = Company(\"B Ltd.\", 2000)\n",
    "\n",
    "# A Ltd. is valued at 1000\n",
    "\n",
    "print(coy1)\n",
    "print(coy2)\n",
    "\n",
    "# The code below should give me the total valuation of the 2 companies\n",
    "print(\"Total valuation of both companies:\", coy1 + coy2)"
   ]
  },
  {
   "cell_type": "code",
   "execution_count": 30,
   "metadata": {},
   "outputs": [
    {
     "data": {
      "text/plain": [
       "['__add__',\n",
       " '__class__',\n",
       " '__delattr__',\n",
       " '__dict__',\n",
       " '__dir__',\n",
       " '__doc__',\n",
       " '__eq__',\n",
       " '__format__',\n",
       " '__ge__',\n",
       " '__getattribute__',\n",
       " '__getstate__',\n",
       " '__gt__',\n",
       " '__hash__',\n",
       " '__init__',\n",
       " '__init_subclass__',\n",
       " '__le__',\n",
       " '__lt__',\n",
       " '__module__',\n",
       " '__ne__',\n",
       " '__new__',\n",
       " '__reduce__',\n",
       " '__reduce_ex__',\n",
       " '__repr__',\n",
       " '__setattr__',\n",
       " '__sizeof__',\n",
       " '__str__',\n",
       " '__subclasshook__',\n",
       " '__weakref__',\n",
       " 'name',\n",
       " 'valuation']"
      ]
     },
     "execution_count": 30,
     "metadata": {},
     "output_type": "execute_result"
    }
   ],
   "source": [
    "dir(coy1)"
   ]
  }
 ],
 "metadata": {
  "kernelspec": {
   "display_name": "Python 3",
   "language": "python",
   "name": "python3"
  },
  "language_info": {
   "codemirror_mode": {
    "name": "ipython",
    "version": 3
   },
   "file_extension": ".py",
   "mimetype": "text/x-python",
   "name": "python",
   "nbconvert_exporter": "python",
   "pygments_lexer": "ipython3",
   "version": "3.12.0"
  }
 },
 "nbformat": 4,
 "nbformat_minor": 2
}
